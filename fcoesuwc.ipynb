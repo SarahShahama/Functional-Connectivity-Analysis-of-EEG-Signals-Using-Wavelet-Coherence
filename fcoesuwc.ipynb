{
  "nbformat": 4,
  "nbformat_minor": 0,
  "metadata": {
    "colab": {
      "provenance": []
    },
    "kernelspec": {
      "name": "python3",
      "display_name": "Python 3"
    },
    "language_info": {
      "name": "python"
    }
  },
  "cells": [
    {
      "cell_type": "code",
      "execution_count": 6,
      "metadata": {
        "colab": {
          "base_uri": "https://localhost:8080/"
        },
        "id": "Pqjp7gwIjizN",
        "outputId": "05b8878a-8e41-43b8-aa6f-7a3053f00034"
      },
      "outputs": [
        {
          "output_type": "stream",
          "name": "stdout",
          "text": [
            "\n",
            "=== Processing Subject 1 ===\n",
            "  Run 1...\n",
            "Channels available: ['Fc5.', 'Fc3.', 'Fc1.', 'Fcz.', 'Fc2.', 'Fc4.', 'Fc6.', 'C5..', 'C3..', 'C1..', 'Cz..', 'C2..', 'C4..', 'C6..', 'Cp5.', 'Cp3.', 'Cp1.', 'Cpz.', 'Cp2.', 'Cp4.', 'Cp6.', 'Fp1.', 'Fpz.', 'Fp2.', 'Af7.', 'Af3.', 'Afz.', 'Af4.', 'Af8.', 'F7..', 'F5..', 'F3..', 'F1..', 'Fz..', 'F2..', 'F4..', 'F6..', 'F8..', 'Ft7.', 'Ft8.', 'T7..', 'T8..', 'T9..', 'T10.', 'Tp7.', 'Tp8.', 'P7..', 'P5..', 'P3..', 'P1..', 'Pz..', 'P2..', 'P4..', 'P6..', 'P8..', 'Po7.', 'Po3.', 'Poz.', 'Po4.', 'Po8.', 'O1..', 'Oz..', 'O2..', 'Iz..']\n",
            "  -> Alpha-band coherence matrix saved (7×7)\n",
            "  Run 4...\n",
            "Channels available: ['Fc5.', 'Fc3.', 'Fc1.', 'Fcz.', 'Fc2.', 'Fc4.', 'Fc6.', 'C5..', 'C3..', 'C1..', 'Cz..', 'C2..', 'C4..', 'C6..', 'Cp5.', 'Cp3.', 'Cp1.', 'Cpz.', 'Cp2.', 'Cp4.', 'Cp6.', 'Fp1.', 'Fpz.', 'Fp2.', 'Af7.', 'Af3.', 'Afz.', 'Af4.', 'Af8.', 'F7..', 'F5..', 'F3..', 'F1..', 'Fz..', 'F2..', 'F4..', 'F6..', 'F8..', 'Ft7.', 'Ft8.', 'T7..', 'T8..', 'T9..', 'T10.', 'Tp7.', 'Tp8.', 'P7..', 'P5..', 'P3..', 'P1..', 'Pz..', 'P2..', 'P4..', 'P6..', 'P8..', 'Po7.', 'Po3.', 'Poz.', 'Po4.', 'Po8.', 'O1..', 'Oz..', 'O2..', 'Iz..']\n",
            "  -> Alpha-band coherence matrix saved (7×7)\n",
            "\n",
            "=== Processing Subject 2 ===\n",
            "  Run 1...\n",
            "Channels available: ['Fc5.', 'Fc3.', 'Fc1.', 'Fcz.', 'Fc2.', 'Fc4.', 'Fc6.', 'C5..', 'C3..', 'C1..', 'Cz..', 'C2..', 'C4..', 'C6..', 'Cp5.', 'Cp3.', 'Cp1.', 'Cpz.', 'Cp2.', 'Cp4.', 'Cp6.', 'Fp1.', 'Fpz.', 'Fp2.', 'Af7.', 'Af3.', 'Afz.', 'Af4.', 'Af8.', 'F7..', 'F5..', 'F3..', 'F1..', 'Fz..', 'F2..', 'F4..', 'F6..', 'F8..', 'Ft7.', 'Ft8.', 'T7..', 'T8..', 'T9..', 'T10.', 'Tp7.', 'Tp8.', 'P7..', 'P5..', 'P3..', 'P1..', 'Pz..', 'P2..', 'P4..', 'P6..', 'P8..', 'Po7.', 'Po3.', 'Poz.', 'Po4.', 'Po8.', 'O1..', 'Oz..', 'O2..', 'Iz..']\n",
            "  -> Alpha-band coherence matrix saved (7×7)\n",
            "  Run 4...\n",
            "Channels available: ['Fc5.', 'Fc3.', 'Fc1.', 'Fcz.', 'Fc2.', 'Fc4.', 'Fc6.', 'C5..', 'C3..', 'C1..', 'Cz..', 'C2..', 'C4..', 'C6..', 'Cp5.', 'Cp3.', 'Cp1.', 'Cpz.', 'Cp2.', 'Cp4.', 'Cp6.', 'Fp1.', 'Fpz.', 'Fp2.', 'Af7.', 'Af3.', 'Afz.', 'Af4.', 'Af8.', 'F7..', 'F5..', 'F3..', 'F1..', 'Fz..', 'F2..', 'F4..', 'F6..', 'F8..', 'Ft7.', 'Ft8.', 'T7..', 'T8..', 'T9..', 'T10.', 'Tp7.', 'Tp8.', 'P7..', 'P5..', 'P3..', 'P1..', 'Pz..', 'P2..', 'P4..', 'P6..', 'P8..', 'Po7.', 'Po3.', 'Poz.', 'Po4.', 'Po8.', 'O1..', 'Oz..', 'O2..', 'Iz..']\n",
            "  -> Alpha-band coherence matrix saved (7×7)\n",
            "\n",
            "=== Processing Subject 3 ===\n",
            "  Run 1...\n",
            "Channels available: ['Fc5.', 'Fc3.', 'Fc1.', 'Fcz.', 'Fc2.', 'Fc4.', 'Fc6.', 'C5..', 'C3..', 'C1..', 'Cz..', 'C2..', 'C4..', 'C6..', 'Cp5.', 'Cp3.', 'Cp1.', 'Cpz.', 'Cp2.', 'Cp4.', 'Cp6.', 'Fp1.', 'Fpz.', 'Fp2.', 'Af7.', 'Af3.', 'Afz.', 'Af4.', 'Af8.', 'F7..', 'F5..', 'F3..', 'F1..', 'Fz..', 'F2..', 'F4..', 'F6..', 'F8..', 'Ft7.', 'Ft8.', 'T7..', 'T8..', 'T9..', 'T10.', 'Tp7.', 'Tp8.', 'P7..', 'P5..', 'P3..', 'P1..', 'Pz..', 'P2..', 'P4..', 'P6..', 'P8..', 'Po7.', 'Po3.', 'Poz.', 'Po4.', 'Po8.', 'O1..', 'Oz..', 'O2..', 'Iz..']\n",
            "  -> Alpha-band coherence matrix saved (7×7)\n",
            "  Run 4...\n",
            "Channels available: ['Fc5.', 'Fc3.', 'Fc1.', 'Fcz.', 'Fc2.', 'Fc4.', 'Fc6.', 'C5..', 'C3..', 'C1..', 'Cz..', 'C2..', 'C4..', 'C6..', 'Cp5.', 'Cp3.', 'Cp1.', 'Cpz.', 'Cp2.', 'Cp4.', 'Cp6.', 'Fp1.', 'Fpz.', 'Fp2.', 'Af7.', 'Af3.', 'Afz.', 'Af4.', 'Af8.', 'F7..', 'F5..', 'F3..', 'F1..', 'Fz..', 'F2..', 'F4..', 'F6..', 'F8..', 'Ft7.', 'Ft8.', 'T7..', 'T8..', 'T9..', 'T10.', 'Tp7.', 'Tp8.', 'P7..', 'P5..', 'P3..', 'P1..', 'Pz..', 'P2..', 'P4..', 'P6..', 'P8..', 'Po7.', 'Po3.', 'Poz.', 'Po4.', 'Po8.', 'O1..', 'Oz..', 'O2..', 'Iz..']\n",
            "  -> Alpha-band coherence matrix saved (7×7)\n",
            "\n",
            "=== Processing Subject 4 ===\n",
            "  Run 1...\n",
            "Channels available: ['Fc5.', 'Fc3.', 'Fc1.', 'Fcz.', 'Fc2.', 'Fc4.', 'Fc6.', 'C5..', 'C3..', 'C1..', 'Cz..', 'C2..', 'C4..', 'C6..', 'Cp5.', 'Cp3.', 'Cp1.', 'Cpz.', 'Cp2.', 'Cp4.', 'Cp6.', 'Fp1.', 'Fpz.', 'Fp2.', 'Af7.', 'Af3.', 'Afz.', 'Af4.', 'Af8.', 'F7..', 'F5..', 'F3..', 'F1..', 'Fz..', 'F2..', 'F4..', 'F6..', 'F8..', 'Ft7.', 'Ft8.', 'T7..', 'T8..', 'T9..', 'T10.', 'Tp7.', 'Tp8.', 'P7..', 'P5..', 'P3..', 'P1..', 'Pz..', 'P2..', 'P4..', 'P6..', 'P8..', 'Po7.', 'Po3.', 'Poz.', 'Po4.', 'Po8.', 'O1..', 'Oz..', 'O2..', 'Iz..']\n",
            "  -> Alpha-band coherence matrix saved (7×7)\n",
            "  Run 4...\n",
            "Channels available: ['Fc5.', 'Fc3.', 'Fc1.', 'Fcz.', 'Fc2.', 'Fc4.', 'Fc6.', 'C5..', 'C3..', 'C1..', 'Cz..', 'C2..', 'C4..', 'C6..', 'Cp5.', 'Cp3.', 'Cp1.', 'Cpz.', 'Cp2.', 'Cp4.', 'Cp6.', 'Fp1.', 'Fpz.', 'Fp2.', 'Af7.', 'Af3.', 'Afz.', 'Af4.', 'Af8.', 'F7..', 'F5..', 'F3..', 'F1..', 'Fz..', 'F2..', 'F4..', 'F6..', 'F8..', 'Ft7.', 'Ft8.', 'T7..', 'T8..', 'T9..', 'T10.', 'Tp7.', 'Tp8.', 'P7..', 'P5..', 'P3..', 'P1..', 'Pz..', 'P2..', 'P4..', 'P6..', 'P8..', 'Po7.', 'Po3.', 'Poz.', 'Po4.', 'Po8.', 'O1..', 'Oz..', 'O2..', 'Iz..']\n",
            "  -> Alpha-band coherence matrix saved (7×7)\n",
            "\n",
            "=== Processing Subject 5 ===\n",
            "  Run 1...\n",
            "Channels available: ['Fc5.', 'Fc3.', 'Fc1.', 'Fcz.', 'Fc2.', 'Fc4.', 'Fc6.', 'C5..', 'C3..', 'C1..', 'Cz..', 'C2..', 'C4..', 'C6..', 'Cp5.', 'Cp3.', 'Cp1.', 'Cpz.', 'Cp2.', 'Cp4.', 'Cp6.', 'Fp1.', 'Fpz.', 'Fp2.', 'Af7.', 'Af3.', 'Afz.', 'Af4.', 'Af8.', 'F7..', 'F5..', 'F3..', 'F1..', 'Fz..', 'F2..', 'F4..', 'F6..', 'F8..', 'Ft7.', 'Ft8.', 'T7..', 'T8..', 'T9..', 'T10.', 'Tp7.', 'Tp8.', 'P7..', 'P5..', 'P3..', 'P1..', 'Pz..', 'P2..', 'P4..', 'P6..', 'P8..', 'Po7.', 'Po3.', 'Poz.', 'Po4.', 'Po8.', 'O1..', 'Oz..', 'O2..', 'Iz..']\n",
            "  -> Alpha-band coherence matrix saved (7×7)\n",
            "  Run 4...\n",
            "Channels available: ['Fc5.', 'Fc3.', 'Fc1.', 'Fcz.', 'Fc2.', 'Fc4.', 'Fc6.', 'C5..', 'C3..', 'C1..', 'Cz..', 'C2..', 'C4..', 'C6..', 'Cp5.', 'Cp3.', 'Cp1.', 'Cpz.', 'Cp2.', 'Cp4.', 'Cp6.', 'Fp1.', 'Fpz.', 'Fp2.', 'Af7.', 'Af3.', 'Afz.', 'Af4.', 'Af8.', 'F7..', 'F5..', 'F3..', 'F1..', 'Fz..', 'F2..', 'F4..', 'F6..', 'F8..', 'Ft7.', 'Ft8.', 'T7..', 'T8..', 'T9..', 'T10.', 'Tp7.', 'Tp8.', 'P7..', 'P5..', 'P3..', 'P1..', 'Pz..', 'P2..', 'P4..', 'P6..', 'P8..', 'Po7.', 'Po3.', 'Poz.', 'Po4.', 'Po8.', 'O1..', 'Oz..', 'O2..', 'Iz..']\n",
            "  -> Alpha-band coherence matrix saved (7×7)\n",
            "\n",
            "All subjects & runs processed.\n"
          ]
        }
      ],
      "source": [
        "import numpy as np\n",
        "import os\n",
        "import mne\n",
        "from mne.datasets import eegbci\n",
        "from mne.io import read_raw_edf\n",
        "from mne.time_frequency import tfr_array_morlet\n",
        "from scipy.signal import detrend\n",
        "\n",
        "\n",
        "subjects = [1, 2, 3, 4, 5]        # first 5 subjects\n",
        "runs_to_fetch = [1, 4]            # baseline (1) and motor imagery (4)\n",
        "channels_of_interest = ['C3..', 'Cz..', 'C4..', 'Fz..', 'Pz..', 'P3..', 'P4..']\n",
        "data_path = os.path.expanduser('~/mne_data')\n",
        "\n",
        "sfreq_target = 128.0\n",
        "freqs = np.arange(4., 31., 1.)      # 4–30 Hz\n",
        "n_cycles = freqs / 2.0\n",
        "alpha_mask = (freqs >= 8) & (freqs <= 13)\n",
        "win_sec = 2.0\n",
        "\n",
        "# ---------------------------------------------\n",
        "# DOWNLOADING ALL FILES FIRST\n",
        "# ---------------------------------------------\n",
        "all_files = {subj: eegbci.load_data(subj, runs_to_fetch, verbose=False)\n",
        "             for subj in subjects}\n",
        "\n",
        "# ---------------------------------------------\n",
        "# DICTIONARY TO STORE RESULTS\n",
        "# keys: (subject, run) → alpha-band coherence matrix\n",
        "# ---------------------------------------------\n",
        "alpha_coh_all = {}\n",
        "\n",
        "# ---------------------------------------------\n",
        "# OUTER LOOP: for each subject\n",
        "# INNER LOOP: for each run\n",
        "# ---------------------------------------------\n",
        "for subj in subjects:\n",
        "    print(f\"\\n=== Processing Subject {subj} ===\")\n",
        "    for run_idx, run_num in enumerate(runs_to_fetch):\n",
        "        print(f\"  Run {run_num}...\")\n",
        "        raw_fname = all_files[subj][run_idx]\n",
        "\n",
        "        # ---------- Load & preprocess ----------\n",
        "        raw = read_raw_edf(raw_fname, preload=True, verbose=False)\n",
        "        print(\"Channels available:\", raw.ch_names)\n",
        "\n",
        "        raw.pick_types(eeg=True)\n",
        "        picks = [ch for ch in channels_of_interest if ch in raw.ch_names]\n",
        "        if len(picks) < 2:\n",
        "            print(\"  Skipping — not enough channels found\")\n",
        "            continue\n",
        "\n",
        "        raw.notch_filter(np.arange(50, 251, 50), picks=picks,\n",
        "                         method='spectrum_fit', verbose=False)\n",
        "        raw.filter(1., 40., picks=picks, fir_design='firwin', verbose=False)\n",
        "        raw.resample(sfreq_target, npad='auto', verbose=False)\n",
        "\n",
        "        # ---------- Epoch into 2-s windows ----------\n",
        "        data = raw.get_data(picks=picks)\n",
        "        n_ch, n_times = data.shape\n",
        "        win_samples = int(win_sec * sfreq_target)\n",
        "        n_windows = n_times // win_samples\n",
        "        epochs = np.zeros((n_windows, n_ch, win_samples))\n",
        "        for w in range(n_windows):\n",
        "            seg = data[:, w*win_samples:(w+1)*win_samples]\n",
        "            seg = detrend(seg, axis=1)\n",
        "            epochs[w] = seg\n",
        "\n",
        "        # ---------- Morlet wavelet transform ----------\n",
        "        power_complex = tfr_array_morlet(\n",
        "            epochs, sfreq=sfreq_target, freqs=freqs,\n",
        "            n_cycles=n_cycles, output='complex', verbose=False)\n",
        "\n",
        "        # ---------- Wavelet coherence ----------\n",
        "        n_ep, n_ch, n_fr, n_t = power_complex.shape\n",
        "        coherence_freq = np.zeros((n_ch, n_ch, n_fr))\n",
        "        for i in range(n_ch):\n",
        "            Wi = power_complex[:, i, :, :]\n",
        "            for j in range(n_ch):\n",
        "                Wj = power_complex[:, j, :, :]\n",
        "                Sxy = np.mean(Wi * np.conj(Wj), axis=(0, 2))\n",
        "                Sxx = np.mean(np.abs(Wi)**2, axis=(0, 2))\n",
        "                Syy = np.mean(np.abs(Wj)**2, axis=(0, 2))\n",
        "                denom = Sxx * Syy\n",
        "                denom[denom == 0] = np.finfo(float).eps\n",
        "                coherence_freq[i, j, :] = (np.abs(Sxy)**2) / denom\n",
        "\n",
        "        # ---------- Alpha-band average ----------\n",
        "        alpha_coh = coherence_freq[:, :, alpha_mask].mean(axis=2)\n",
        "        alpha_coh_all[(subj, run_num)] = (alpha_coh, picks)\n",
        "\n",
        "        print(f\"  -> Alpha-band coherence matrix saved \"\n",
        "              f\"({len(picks)}×{len(picks)})\")\n",
        "\n",
        "print(\"\\nAll subjects & runs processed.\")"
      ]
    },
    {
      "cell_type": "code",
      "source": [
        "# Example: visualize subject 3, run 4\n",
        "subj_example, run_example = 3, 4\n",
        "alpha_coh, ch_labels = alpha_coh_all[(subj_example, run_example)]\n",
        "\n",
        "import matplotlib.pyplot as plt\n",
        "fig, ax = plt.subplots(figsize=(6,5))\n",
        "im = ax.imshow(alpha_coh, vmin=0, vmax=1, cmap='viridis', origin='lower')\n",
        "ax.set_xticks(np.arange(len(ch_labels)))\n",
        "ax.set_yticks(np.arange(len(ch_labels)))\n",
        "ax.set_xticklabels(ch_labels, rotation=45)\n",
        "ax.set_yticklabels(ch_labels)\n",
        "ax.set_title(f\"Subject {subj_example} Run {run_example} — Alpha coherence\")\n",
        "fig.colorbar(im, ax=ax, label='Coherence (0–1)')\n",
        "plt.tight_layout()\n",
        "plt.show()\n"
      ],
      "metadata": {
        "colab": {
          "base_uri": "https://localhost:8080/",
          "height": 520
        },
        "id": "dGQ_i2ctn6ku",
        "outputId": "ded975d5-9430-4556-8d73-d620b823a748"
      },
      "execution_count": 7,
      "outputs": [
        {
          "output_type": "display_data",
          "data": {
            "text/plain": [
              "<Figure size 600x500 with 2 Axes>"
            ],
            "image/png": "[encoded data removed]"
          },
          "metadata": {}
        }
      ]
    },
    {
      "cell_type": "code",
      "source": [
        "matrices_run1 = []\n",
        "matrices_run4 = []\n",
        "valid_subjects = []\n",
        "for subj in subjects:\n",
        "    key1 = (subj, runs_to_fetch[0])\n",
        "    key4 = (subj, runs_to_fetch[1])\n",
        "    if key1 in alpha_coh_all and key4 in alpha_coh_all:\n",
        "        m1, picks1 = alpha_coh_all[key1]\n",
        "        m4, picks4 = alpha_coh_all[key4]\n",
        "        # ensure channel order matches\n",
        "        if picks1 != picks4:\n",
        "            # Align columns/rows using picks4 order\n",
        "            idx_map = [picks1.index(ch) for ch in picks4]\n",
        "            m1 = m1[np.ix_(idx_map, idx_map)]\n",
        "            picks = picks4\n",
        "        else:\n",
        "            picks = picks1\n",
        "        matrices_run1.append(m1)\n",
        "        matrices_run4.append(m4)\n",
        "        valid_subjects.append(subj)\n",
        "    else:\n",
        "        print(f\"Subject {subj} missing one of the runs; skipping.\")\n",
        "\n",
        "matrices_run1 = np.array(matrices_run1)  # shape: (n_subj, n_ch, n_ch)\n",
        "matrices_run4 = np.array(matrices_run4)\n",
        "n_subj = matrices_run1.shape[0]\n",
        "n_ch = matrices_run1.shape[1]\n",
        "print(f\"Using {n_subj} subjects with {n_ch} channels: {picks}\")"
      ],
      "metadata": {
        "colab": {
          "base_uri": "https://localhost:8080/"
        },
        "id": "xeriAIFFojA0",
        "outputId": "b1c019b0-ccdf-4305-ec85-7e8c231b2443"
      },
      "execution_count": 8,
      "outputs": [
        {
          "output_type": "stream",
          "name": "stdout",
          "text": [
            "Using 5 subjects with 7 channels: ['C3..', 'Cz..', 'C4..', 'Fz..', 'Pz..', 'P3..', 'P4..']\n"
          ]
        }
      ]
    },
    {
      "cell_type": "code",
      "source": [
        "# ---------- EDGE-WISE PAIRED T-TEST (run1 vs run4) ----------\n",
        "# We'll vectorize upper-triangular edges (excluding diagonal).\n",
        "triu_idx = np.triu_indices(n_ch, k=1)\n",
        "n_edges = len(triu_idx[0])\n",
        "\n",
        "# Build edge arrays: shape (n_subj, n_edges)\n",
        "edges_run1 = matrices_run1[:, triu_idx[0], triu_idx[1]]\n",
        "edges_run4 = matrices_run4[:, triu_idx[0], triu_idx[1]]\n",
        "from scipy.stats import ttest_rel\n",
        "from statsmodels.stats.multitest import multipletests\n",
        "# Paired t-test across subjects for each edge\n",
        "t_stats, p_vals = ttest_rel(edges_run4, edges_run1, axis=0, nan_policy='omit')\n",
        "# We'll compute mean difference and Cohen's d (paired)\n",
        "mean_diff = (edges_run4 - edges_run1).mean(axis=0)\n",
        "std_diff = (edges_run4 - edges_run1).std(axis=0, ddof=1)\n",
        "cohens_d = mean_diff / (std_diff + 1e-12)\n",
        "\n",
        "# FDR correction\n",
        "reject_fdr, pvals_fdr, _, _ = multipletests(p_vals, alpha=0.05, method='fdr_bh')\n",
        "\n",
        "# Prepare matrix of p-values and t-stats for visualization\n",
        "t_mat = np.zeros((n_ch, n_ch)); p_mat = np.ones((n_ch, n_ch)); d_mat = np.zeros((n_ch, n_ch))\n",
        "t_mat[triu_idx] = t_stats; t_mat = t_mat + t_mat.T\n",
        "p_mat[triu_idx] = p_vals; p_mat = p_mat + p_mat.T\n",
        "d_mat[triu_idx] = cohens_d; d_mat = d_mat + d_mat.T\n",
        "\n",
        "# Significant edges after FDR\n",
        "sig_edges_idx = np.where(reject_fdr)[0]\n",
        "sig_edge_pairs = [(picks[triu_idx[0][i]], picks[triu_idx[1][i]]) for i in sig_edges_idx]\n",
        "print(f\"Edge-wise paired t-test: {len(sig_edges_idx)} edges pass FDR (alpha=0.05).\")\n"
      ],
      "metadata": {
        "colab": {
          "base_uri": "https://localhost:8080/"
        },
        "id": "T7IzVCoWpWKx",
        "outputId": "e66408c3-9c0d-45f2-b8b7-3e31b24e4533"
      },
      "execution_count": 11,
      "outputs": [
        {
          "output_type": "stream",
          "name": "stdout",
          "text": [
            "Edge-wise paired t-test: 0 edges pass FDR (alpha=0.05).\n"
          ]
        }
      ]
    },
    {
      "cell_type": "code",
      "source": [
        "def largest_component_size_from_t(t_vals, threshold, n_ch):\n",
        "    \"\"\"t_vals is 1D array of t-stat per upper tri edge; return size (#edges) of largest connected component.\"\"\"\n",
        "    # Build binary adjacency matrix\n",
        "    bin_mat = np.zeros((n_ch, n_ch), dtype=int)\n",
        "    bin_mat[triu_idx] = (np.abs(t_vals) >= threshold).astype(int)\n",
        "    bin_mat = bin_mat + bin_mat.T\n",
        "    G = nx.from_numpy_array(bin_mat)\n",
        "    # remove isolated nodes\n",
        "    comps = [c for c in nx.connected_components(G) if len(c) > 1]\n",
        "    if not comps:\n",
        "        return 0, []\n",
        "    # For each component, count number of edges inside it\n",
        "    comp_edge_counts = []\n",
        "    comp_nodes_list = []\n",
        "    for comp in comps:\n",
        "        subg = G.subgraph(comp)\n",
        "        comp_edge_counts.append(subg.number_of_edges())\n",
        "        comp_nodes_list.append(list(comp))\n",
        "    max_idx = np.argmax(comp_edge_counts)\n",
        "    return comp_edge_counts[max_idx], comp_nodes_list[max_idx]\n",
        "\n",
        "from scipy.stats import t\n",
        "\n",
        "# number of subjects (we already have this)\n",
        "df = n_subj - 1  # degrees of freedom for paired t-test\n",
        "alpha = 0.05  # desired uncorrected significance level\n",
        "t_thresh = t.ppf(1 - alpha/2, df)  # two-tailed threshold\n",
        "print(f\"t-threshold (two-tailed, alpha=0.05): {t_thresh:.3f}\")\n",
        "\n"
      ],
      "metadata": {
        "colab": {
          "base_uri": "https://localhost:8080/"
        },
        "id": "nUbVbSjarCgN",
        "outputId": "7250789d-faca-4f57-85ff-1660b586d137"
      },
      "execution_count": 13,
      "outputs": [
        {
          "output_type": "stream",
          "name": "stdout",
          "text": [
            "t-threshold (two-tailed, alpha=0.05): 2.776\n"
          ]
        }
      ]
    },
    {
      "cell_type": "code",
      "source": [
        "import networkx as nx\n",
        "# NBS permutation parameter (set this at top of script)\n",
        "n_permutations = 500    # default: 500 (exploratory). Use 1000+ for reporting, 5000+ for publication-grade p-values.\n",
        "random_state = 42\n",
        "np.random.seed(random_state)\n",
        "\n",
        "# Observed t-values per edge\n",
        "t_obs = t_stats.copy()\n",
        "obs_max_size, obs_nodes = largest_component_size_from_t(t_obs, t_thresh, n_ch)\n",
        "\n",
        "# Permutation loop\n",
        "max_sizes_null = np.zeros(n_permutations, dtype=int)\n",
        "for perm in range(n_permutations):\n",
        "    # For each subject, randomly swap labels with 50% probability (sign flip for paired test)\n",
        "    # Equivalent to randomly multiply difference by +1 or -1\n",
        "    signs = np.random.choice([1, -1], size=n_subj)\n",
        "    diff = (edges_run4 - edges_run1) * signs[:, None]  # shape (n_subj, n_edges)\n",
        "    # compute t-statistic under permuted signs: t = mean(diff) / (std(diff)/sqrt(n))\n",
        "    denom = diff.std(axis=0, ddof=1) / np.sqrt(n_subj)\n",
        "    denom[denom == 0] = np.finfo(float).eps\n",
        "    t_perm = diff.mean(axis=0) / denom\n",
        "    perm_max_size, _ = largest_component_size_from_t(t_perm, t_thresh, n_ch)\n",
        "    max_sizes_null[perm] = perm_max_size\n",
        "\n",
        "# p-value for observed component\n",
        "p_nbs = (1 + np.sum(max_sizes_null >= obs_max_size)) / (1 + n_permutations)\n",
        "print(f\"NBS: observed largest component size = {obs_max_size} edges; NBS p-value = {p_nbs:.4f}\")"
      ],
      "metadata": {
        "colab": {
          "base_uri": "https://localhost:8080/"
        },
        "id": "XQfMvCQirrn6",
        "outputId": "f657bbfc-cd3c-439c-d7e7-32231595755b"
      },
      "execution_count": 18,
      "outputs": [
        {
          "output_type": "stream",
          "name": "stdout",
          "text": [
            "NBS: observed largest component size = 1 edges; NBS p-value = 0.3433\n"
          ]
        }
      ]
    },
    {
      "cell_type": "code",
      "source": [
        "# ---------- Visualize results ----------\n",
        "# 1) Edge-wise FDR significant graph\n",
        "G_fdr = nx.Graph()\n",
        "G_fdr.add_nodes_from(picks)\n",
        "for i in range(len(triu_idx[0])):\n",
        "    if reject_fdr[i]:\n",
        "        a = picks[triu_idx[0][i]]; b = picks[triu_idx[1][i]]\n",
        "        weight = mean_diff[i]\n",
        "        G_fdr.add_edge(a, b, weight=weight, t=t_stats[i], p=p_vals[i])"
      ],
      "metadata": {
        "id": "jKsOSwfgtrLX"
      },
      "execution_count": 19,
      "outputs": []
    },
    {
      "cell_type": "code",
      "source": [
        "# 2) NBS component graph (if observed component non-zero)\n",
        "G_nbs = nx.Graph()\n",
        "G_nbs.add_nodes_from(picks)\n",
        "if obs_max_size > 0:\n",
        "    # get edges belonging to the observed component nodes (map node indices)\n",
        "    comp_nodes = obs_nodes\n",
        "    # convert numeric nodes to pick names\n",
        "    comp_names = [picks[n] for n in comp_nodes]\n",
        "    # add all edges between comp nodes that are supra-threshold in observed t\n",
        "    for i in range(len(triu_idx[0])):\n",
        "        if np.abs(t_obs[i]) >= t_thresh:\n",
        "            n1 = triu_idx[0][i]; n2 = triu_idx[1][i]\n",
        "            if (n1 in comp_nodes) and (n2 in comp_nodes):\n",
        "                G_nbs.add_edge(picks[n1], picks[n2], weight=t_obs[i], t=t_obs[i], p=p_vals[i])\n",
        "\n",
        "# Node positions: if MNE montage is available in previous raw, we try to use it; else circular layout\n",
        "try:\n",
        "    # try to get positions from a raw object (exists if compute step loaded last raw)\n",
        "    pos2d = {}\n",
        "    # we attempt to use 'raw' from last loop (if defined), else fallback\n",
        "    if 'raw' in globals():\n",
        "        montage = raw.get_montage()\n",
        "        ch_pos = montage.get_positions()['ch_pos']\n",
        "        for ch in picks:\n",
        "            if ch in ch_pos:\n",
        "                x,y,z = ch_pos[ch]\n",
        "                pos2d[ch] = (x, y)\n",
        "    if len(pos2d) != len(picks):\n",
        "        raise Exception(\"Incomplete montage positions\")\n",
        "    pos = pos2d\n",
        "except Exception:\n",
        "    pos = nx.circular_layout(picks)"
      ],
      "metadata": {
        "id": "HowDIuT1tzaH"
      },
      "execution_count": 20,
      "outputs": []
    },
    {
      "cell_type": "code",
      "source": [
        "# Plot FDR graph\n",
        "plt.figure(figsize=(6,6))\n",
        "edge_weights = [abs(d['weight']) for (_,_,d) in G_fdr.edges(data=True)]\n",
        "nx.draw_networkx_nodes(G_fdr, pos, node_color='lightblue', node_size=600)\n",
        "if len(edge_weights) > 0:\n",
        "    # scale widths\n",
        "    widths = 2.0 * (np.array(edge_weights) / (np.max(edge_weights)+1e-12))\n",
        "    nx.draw_networkx_edges(G_fdr, pos, width=widths)\n",
        "nx.draw_networkx_labels(G_fdr, pos)\n",
        "plt.title(\"FDR-significant edges (run4 vs run1)\")\n",
        "plt.axis('off')\n",
        "plt.show()"
      ],
      "metadata": {
        "colab": {
          "base_uri": "https://localhost:8080/",
          "height": 521
        },
        "id": "Z8Oe22v8uLH-",
        "outputId": "aa8d4cb0-ed33-435a-dd6f-5ff6dcd4ab89"
      },
      "execution_count": 21,
      "outputs": [
        {
          "output_type": "display_data",
          "data": {
            "text/plain": [
              "<Figure size 600x600 with 1 Axes>"
            ],
            "image/png": "[encoded data removed]"
          },
          "metadata": {}
        }
      ]
    },
    {
      "cell_type": "code",
      "source": [
        "# Plot NBS component graph\n",
        "if obs_max_size > 0:\n",
        "    plt.figure(figsize=(6,6))\n",
        "    edge_weights = [abs(d['weight']) for (_,_,d) in G_nbs.edges(data=True)]\n",
        "    nx.draw_networkx_nodes(G_nbs, pos, node_color='lightgreen', node_size=600)\n",
        "    if len(edge_weights)>0:\n",
        "        widths = 2.0 * (np.array(edge_weights) / (np.max(edge_weights)+1e-12))\n",
        "        nx.draw_networkx_edges(G_nbs, pos, width=widths)\n",
        "    nx.draw_networkx_labels(G_nbs, pos)\n",
        "    plt.title(f\"NBS component (size={obs_max_size} edges), p={p_nbs:.3f}\")\n",
        "    plt.axis('off')\n",
        "    plt.show()\n",
        "else:\n",
        "    print(\"No supra-threshold connected component found (at chosen t_thresh).\")"
      ],
      "metadata": {
        "colab": {
          "base_uri": "https://localhost:8080/",
          "height": 521
        },
        "id": "HSfrB2cpuRJt",
        "outputId": "77d7f351-0b52-446a-ecc5-149cef02a425"
      },
      "execution_count": 22,
      "outputs": [
        {
          "output_type": "display_data",
          "data": {
            "text/plain": [
              "<Figure size 600x600 with 1 Axes>"
            ],
            "image/png": "[encoded data removed]"
          },
          "metadata": {}
        }
      ]
    },
    {
      "cell_type": "code",
      "source": [
        "# Show top 10 edges by absolute Cohen's d\n",
        "abs_idx = np.argsort(np.abs(cohens_d))[::-1]\n",
        "print(\"\\nTop edges by effect size (Cohen's d):\")\n",
        "for k in range(min(10, len(abs_idx))):\n",
        "    i = abs_idx[k]\n",
        "    a = picks[triu_idx[0][i]]; b = picks[triu_idx[1][i]]\n",
        "    print(f\"{a}-{b}: d={cohens_d[i]:+.3f}, t={t_stats[i]:+.3f}, p={p_vals[i]:.4f}, FDR_sig={reject_fdr[i]}\")"
      ],
      "metadata": {
        "colab": {
          "base_uri": "https://localhost:8080/"
        },
        "id": "iOxQB67nvPWk",
        "outputId": "37c2704f-8438-4eef-cf54-b6b2a1ba8e63"
      },
      "execution_count": 23,
      "outputs": [
        {
          "output_type": "stream",
          "name": "stdout",
          "text": [
            "\n",
            "Top edges by effect size (Cohen's d):\n",
            "Fz..-P4..: d=-1.278, t=-2.857, p=0.0461, FDR_sig=False\n",
            "C3..-Fz..: d=+1.083, t=+2.422, p=0.0726, FDR_sig=False\n",
            "Cz..-P4..: d=-0.931, t=-2.083, p=0.1057, FDR_sig=False\n",
            "Pz..-P4..: d=-0.802, t=-1.793, p=0.1474, FDR_sig=False\n",
            "Cz..-Pz..: d=-0.761, t=-1.701, p=0.1641, FDR_sig=False\n",
            "Cz..-P3..: d=-0.707, t=-1.582, p=0.1888, FDR_sig=False\n",
            "Cz..-Fz..: d=+0.701, t=+1.568, p=0.1920, FDR_sig=False\n",
            "C3..-Cz..: d=+0.658, t=+1.471, p=0.2152, FDR_sig=False\n",
            "Fz..-Pz..: d=-0.594, t=-1.329, p=0.2546, FDR_sig=False\n",
            "C3..-P4..: d=-0.587, t=-1.313, p=0.2595, FDR_sig=False\n"
          ]
        }
      ]
    },
    {
      "cell_type": "code",
      "source": [
        "# Summary\n",
        "print(\"\\nSummary:\")\n",
        "print(f\"Subjects used: {valid_subjects}\")\n",
        "print(f\"Total edges tested: {n_edges}\")\n",
        "print(f\"Edges significant after FDR (alpha=0.05): {len(sig_edges_idx)}\")\n",
        "print(f\"NBS observed component size: {obs_max_size}, NBS p = {p_nbs:.4f}\")"
      ],
      "metadata": {
        "colab": {
          "base_uri": "https://localhost:8080/"
        },
        "id": "Boa9esa8vT5B",
        "outputId": "bcd97410-f28b-4781-a9ac-731ab3a7002e"
      },
      "execution_count": 24,
      "outputs": [
        {
          "output_type": "stream",
          "name": "stdout",
          "text": [
            "\n",
            "Summary:\n",
            "Subjects used: [1, 2, 3, 4, 5]\n",
            "Total edges tested: 21\n",
            "Edges significant after FDR (alpha=0.05): 0\n",
            "NBS observed component size: 1, NBS p = 0.3433\n"
          ]
        }
      ]
    }
  ]
}